{
 "cells": [
  {
   "cell_type": "code",
   "execution_count": 19,
   "id": "0f716db2-e4d7-4eea-a7d6-fb7e4c307350",
   "metadata": {
    "tags": []
   },
   "outputs": [
    {
     "name": "stdout",
     "output_type": "stream",
     "text": [
      " Volume in drive C is Windows\n",
      " Volume Serial Number is 5EE0-7A71\n",
      "\n",
      " Directory of C:\\Users\\SeanWalsh\\PycharmProjects\\iris\\iris\\notebook\n",
      "\n",
      "16/05/2023  16:20    <DIR>          .\n",
      "16/05/2023  16:09    <DIR>          ..\n",
      "16/05/2023  16:16    <DIR>          .ipynb_checkpoints\n",
      "16/05/2023  16:20            19.709 Untitled1.ipynb\n",
      "               1 File(s)         19.709 bytes\n",
      "               3 Dir(s)  856.116.228.096 bytes free\n"
     ]
    }
   ],
   "source": [
    "!dir"
   ]
  },
  {
   "cell_type": "code",
   "execution_count": 20,
   "id": "637dc160-635e-4937-83db-8c2314eda99e",
   "metadata": {
    "tags": []
   },
   "outputs": [
    {
     "name": "stderr",
     "output_type": "stream",
     "text": [
      "The system cannot find the path specified.\n"
     ]
    }
   ],
   "source": [
    "!cd ..\\\n",
    "!dir"
   ]
  },
  {
   "cell_type": "code",
   "execution_count": 21,
   "id": "b8a008a4-f0ae-40e1-9fa8-fadd22a25cd5",
   "metadata": {
    "tags": []
   },
   "outputs": [
    {
     "name": "stdout",
     "output_type": "stream",
     "text": [
      " Volume in drive C is Windows\n",
      " Volume Serial Number is 5EE0-7A71\n",
      "\n",
      " Directory of C:\\Users\\SeanWalsh\\PycharmProjects\\iris\\iris\\notebook\n",
      "\n",
      "16/05/2023  16:22    <DIR>          .\n",
      "16/05/2023  16:09    <DIR>          ..\n",
      "16/05/2023  16:16    <DIR>          .ipynb_checkpoints\n",
      "16/05/2023  16:22             1.427 Untitled1.ipynb\n",
      "               1 File(s)          1.427 bytes\n",
      "               3 Dir(s)  856.114.503.680 bytes free\n"
     ]
    }
   ],
   "source": [
    "!dir"
   ]
  },
  {
   "cell_type": "code",
   "execution_count": 22,
   "id": "604cc264-ec3d-4e9d-bed9-dc6ea301ef52",
   "metadata": {
    "tags": []
   },
   "outputs": [
    {
     "name": "stdout",
     "output_type": "stream",
     "text": [
      " Volume in drive C is Windows\n",
      " Volume Serial Number is 5EE0-7A71\n",
      "\n",
      " Directory of C:\\Users\\SeanWalsh\\PycharmProjects\\iris\n",
      "\n",
      "16/05/2023  15:13    <DIR>          .\n",
      "16/05/2023  15:11    <DIR>          ..\n",
      "16/05/2023  15:11    <DIR>          .github\n",
      "16/05/2023  15:11             1.876 .gitignore\n",
      "16/05/2023  15:23    <DIR>          .idea\n",
      "16/05/2023  15:13    <DIR>          build\n",
      "16/05/2023  15:11               105 conftest.py\n",
      "16/05/2023  15:49    <DIR>          demo\n",
      "16/05/2023  15:13    <DIR>          dist\n",
      "16/05/2023  15:11               391 Dockerfile\n",
      "16/05/2023  15:11    <DIR>          docs\n",
      "16/05/2023  16:09    <DIR>          iris\n",
      "16/05/2023  15:15    <DIR>          iris.egg-info\n",
      "16/05/2023  15:11            35.823 LICENSE\n",
      "16/05/2023  15:11               242 MANIFEST.in\n",
      "16/05/2023  15:11    <DIR>          preview\n",
      "16/05/2023  15:11             2.363 README.md\n",
      "16/05/2023  15:11               233 requirements.txt\n",
      "16/05/2023  15:11               718 setup.py\n",
      "16/05/2023  15:11             2.985 TODO.md\n",
      "16/05/2023  15:14    <DIR>          venv\n",
      "               9 File(s)         44.736 bytes\n",
      "              12 Dir(s)  856.114.626.560 bytes free\n"
     ]
    }
   ],
   "source": [
    "!dir ..\\..\\"
   ]
  },
  {
   "cell_type": "code",
   "execution_count": 23,
   "id": "3ca013d1-dd80-40b5-a7b4-eb4c35016ee4",
   "metadata": {
    "tags": []
   },
   "outputs": [
    {
     "name": "stderr",
     "output_type": "stream",
     "text": [
      "'..\\..\\iris' is not recognized as an internal or external command,\n",
      "operable program or batch file.\n"
     ]
    }
   ],
   "source": [
    "!..\\..\\iris "
   ]
  },
  {
   "cell_type": "code",
   "execution_count": 24,
   "id": "e4c82eb6-f9c1-4d55-b697-ea7796fb2674",
   "metadata": {
    "tags": []
   },
   "outputs": [
    {
     "data": {
      "text/plain": [
       "True"
      ]
     },
     "execution_count": 24,
     "metadata": {},
     "output_type": "execute_result"
    }
   ],
   "source": [
    "import webbrowser\n",
    "\n",
    "# generate an URL\n",
    "url = 'http://127.0.0.1:5000'\n",
    "webbrowser.open(url)"
   ]
  },
  {
   "cell_type": "code",
   "execution_count": 26,
   "id": "246389ec-a7d4-4207-bf3b-c20ca320a866",
   "metadata": {
    "tags": []
   },
   "outputs": [
    {
     "data": {
      "text/html": [
       "\n",
       "        <iframe\n",
       "            width=\"100%\"\n",
       "            height=\"500px\"\n",
       "            src=\"http://127.0.0.1:5000/segmentation/\"\n",
       "            frameborder=\"0\"\n",
       "            allowfullscreen\n",
       "            \n",
       "        ></iframe>\n",
       "        "
      ],
      "text/plain": [
       "<IPython.lib.display.IFrame at 0x29ef8d47d30>"
      ]
     },
     "execution_count": 26,
     "metadata": {},
     "output_type": "execute_result"
    }
   ],
   "source": [
    "from IPython.display import IFrame\n",
    "IFrame(src=\"http://127.0.0.1:5000/segmentation/\", width='100%', height='500px')"
   ]
  },
  {
   "cell_type": "code",
   "execution_count": 29,
   "id": "9d8c7b48-4786-4805-94c8-cf0b7ee56e5e",
   "metadata": {
    "tags": []
   },
   "outputs": [
    {
     "data": {
      "text/html": [
       "\n",
       "        <iframe\n",
       "            width=\"100%\"\n",
       "            height=\"500px\"\n",
       "            src=\"http://rte.ie\"\n",
       "            frameborder=\"0\"\n",
       "            allowfullscreen\n",
       "            \n",
       "        ></iframe>\n",
       "        "
      ],
      "text/plain": [
       "<IPython.lib.display.IFrame at 0x29ef7a390d0>"
      ]
     },
     "execution_count": 29,
     "metadata": {},
     "output_type": "execute_result"
    }
   ],
   "source": [
    "from IPython.display import IFrame\n",
    "IFrame(src=\"http://rte.ie\", width='100%', height='500px')"
   ]
  }
 ],
 "metadata": {
  "kernelspec": {
   "display_name": "venv",
   "language": "python",
   "name": "venv"
  },
  "language_info": {
   "codemirror_mode": {
    "name": "ipython",
    "version": 3
   },
   "file_extension": ".py",
   "mimetype": "text/x-python",
   "name": "python",
   "nbconvert_exporter": "python",
   "pygments_lexer": "ipython3",
   "version": "3.9.13"
  }
 },
 "nbformat": 4,
 "nbformat_minor": 5
}
